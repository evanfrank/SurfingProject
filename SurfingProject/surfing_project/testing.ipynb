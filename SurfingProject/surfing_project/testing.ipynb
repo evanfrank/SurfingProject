{
 "cells": [
  {
   "cell_type": "code",
   "execution_count": null,
   "metadata": {},
   "outputs": [],
   "source": [
    "import pandas as pd\n",
    "from sqlalchemy import create_engine\n",
    "import requests\n",
    "import folium"
   ]
  },
  {
   "cell_type": "code",
   "execution_count": null,
   "metadata": {},
   "outputs": [],
   "source": [
    "def make_con():\n",
    "    user = \"surf_app\"\n",
    "    pwd = \"password1\"\n",
    "    host = \"localhost\"\n",
    "    db = \"surfing_project\"\n",
    "    con_string = f\"postgresql+psycopg2://{user}:{pwd}@{host}/{db}\"\n",
    "    engine = create_engine(con_string)\n",
    "    return engine\n"
   ]
  },
  {
   "cell_type": "code",
   "execution_count": null,
   "metadata": {},
   "outputs": [],
   "source": [
    "engine = make_con()\n",
    "\n",
    "sql = \"SELECT * FROM public.\\\"BouyMeta\\\";\"\n",
    "bouy_meta = pd.read_sql(sql, con=engine)\n",
    "\n",
    "    # Bouys in the East\n",
    "bouy_meta = bouy_meta[bouy_meta[\"lon\"].between(-84, -55)\n",
    "                          & bouy_meta[\"lat\"].between(23, 47)]\n",
    "    # But not the great lakes\n",
    "bouy_meta_GL = bouy_meta[bouy_meta[\"lon\"].between(-84, -72) & bouy_meta[\"lat\"].between(41.2, 48)]\n",
    "\n",
    "bouy_meta = pd.concat([bouy_meta, bouy_meta_GL]) \n",
    "bouy_meta = bouy_meta.drop_duplicates(keep=False)\n",
    "\n",
    "\n",
    "    # marking metadata\n",
    "m = folium.Map(location=[bouy_meta['lat'].iloc[0],\n",
    "                            bouy_meta['lon'].iloc[0]], zoom_start=5)\n",
    "\n",
    "for index, row in bouy_meta.iterrows():\n",
    "    folium.Marker(location=[row['lat'], row['lon']],popup=row['name']).add_to(m)"
   ]
  },
  {
   "cell_type": "code",
   "execution_count": null,
   "metadata": {},
   "outputs": [],
   "source": [
    "m"
   ]
  },
  {
   "cell_type": "code",
   "execution_count": null,
   "metadata": {},
   "outputs": [],
   "source": [
    "engine = make_con()\n",
    "\n",
    "bouy_meta = pd.read_xml(\"https://www.ndbc.noaa.gov/activestations.xml\")\n",
    "\n",
    "sql = \"SELECT * FROM public.\\\"BouyMeta\\\";\"\n",
    "\n",
    "bouy_loaded = pd.read_sql(sql, con=engine)\n",
    "\n",
    "existing_bouys = bouy_loaded['id'].values\n",
    "\n",
    "bouy_meta = bouy_meta[~bouy_meta['id'].isin(existing_bouys)]\n",
    "\n",
    "bouy_meta.to_sql(\"BouyMeta\",\n",
    "                 con=engine,\n",
    "                 if_exists='append',\n",
    "                 index='False')"
   ]
  },
  {
   "cell_type": "code",
   "execution_count": null,
   "metadata": {},
   "outputs": [],
   "source": [
    "bouy_meta"
   ]
  },
  {
   "cell_type": "code",
   "execution_count": null,
   "metadata": {},
   "outputs": [],
   "source": [
    "bouy_meta[bouy_meta[\"lon\"].between(-84,-55) \n",
    "          & bouy_meta[\"lat\"].between(23,47)]"
   ]
  },
  {
   "cell_type": "code",
   "execution_count": null,
   "metadata": {},
   "outputs": [],
   "source": [
    "bouy_meta = pd.read_xml(\"https://www.ndbc.noaa.gov/activestations.xml\")\n",
    "\n",
    "bouy_meta = bouy_meta[bouy_meta[\"lon\"].between(-84,-55) \n",
    "          & bouy_meta[\"lat\"].between(23,47)]\n",
    "\n",
    "bouy_meta.to_sql(\"BouyMetaNorthEast\",\n",
    "                     con=engine,\n",
    "                     if_exists='replace',\n",
    "                     index='False')"
   ]
  },
  {
   "cell_type": "code",
   "execution_count": null,
   "metadata": {},
   "outputs": [],
   "source": [
    "bouy_meta=bouy_meta[bouy_meta[\"lon\"].between(-84,-55) \n",
    "                    & bouy_meta[\"lat\"].between(23,47)]\n",
    "\n",
    "m = folium.Map(location=[bouy_meta['lat'].iloc[0], bouy_meta['lon'].iloc[0]], zoom_start=5)\n",
    "\n",
    "# Add markers for each location\n",
    "for index, row in bouy_meta.iterrows():\n",
    "    folium.Marker(\n",
    "        location=[row['lat'], row['lon']],\n",
    "        popup=row['name']\n",
    "    ).add_to(m)\n",
    "\n",
    "# Display the map\n",
    "m"
   ]
  },
  {
   "cell_type": "code",
   "execution_count": null,
   "metadata": {},
   "outputs": [],
   "source": [
    "bouy_meta"
   ]
  },
  {
   "cell_type": "code",
   "execution_count": null,
   "metadata": {},
   "outputs": [],
   "source": [
    "m"
   ]
  },
  {
   "cell_type": "code",
   "execution_count": null,
   "metadata": {},
   "outputs": [],
   "source": [
    "from io import BytesIO\n",
    "import io\n",
    "import base64\n",
    "from PIL import Image"
   ]
  },
  {
   "cell_type": "code",
   "execution_count": null,
   "metadata": {},
   "outputs": [],
   "source": [
    "buffer = BytesIO()\n",
    "img = m._to_png(5)\n",
    "img = Image.open(io.BytesIO(img))\n",
    "img.save(buffer, format=\"PNG\")\n",
    "image_data = base64.b64encode(buffer.getvalue())\n",
    "\n",
    "# Convert the image to Markdown to preview it within Dagster\n",
    "md_content = f\"![img](data:image/png;base64,{image_data.decode()})\""
   ]
  },
  {
   "cell_type": "code",
   "execution_count": null,
   "metadata": {},
   "outputs": [],
   "source": [
    "img.save(buffer, format=\"PNG\")\n",
    "image_data = base64.b64encode(buffer.getvalue())\n",
    "\n",
    "# Convert the image to Markdown to preview it within Dagster\n",
    "md_content = f\"![img](data:image/png;base64,{image_data.decode()})\""
   ]
  },
  {
   "cell_type": "code",
   "execution_count": null,
   "metadata": {},
   "outputs": [],
   "source": [
    "md_content"
   ]
  },
  {
   "cell_type": "code",
   "execution_count": null,
   "metadata": {},
   "outputs": [],
   "source": []
  }
 ],
 "metadata": {
  "kernelspec": {
   "display_name": ".venv",
   "language": "python",
   "name": "python3"
  },
  "language_info": {
   "codemirror_mode": {
    "name": "ipython",
    "version": 3
   },
   "file_extension": ".py",
   "mimetype": "text/x-python",
   "name": "python",
   "nbconvert_exporter": "python",
   "pygments_lexer": "ipython3",
   "version": "3.10.11"
  }
 },
 "nbformat": 4,
 "nbformat_minor": 2
}
